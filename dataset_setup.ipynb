{
  "nbformat": 4,
  "nbformat_minor": 0,
  "metadata": {
    "colab": {
      "provenance": [],
      "authorship_tag": "ABX9TyOevlhHTKtzG/5BVUPtyJ/U",
      "include_colab_link": true
    },
    "kernelspec": {
      "name": "python3",
      "display_name": "Python 3"
    },
    "language_info": {
      "name": "python"
    }
  },
  "cells": [
    {
      "cell_type": "markdown",
      "metadata": {
        "id": "view-in-github",
        "colab_type": "text"
      },
      "source": [
        "<a href=\"https://colab.research.google.com/github/Sneha-mv23/PetVision/blob/main/dataset_setup.ipynb\" target=\"_parent\"><img src=\"https://colab.research.google.com/assets/colab-badge.svg\" alt=\"Open In Colab\"/></a>"
      ]
    },
    {
      "cell_type": "code",
      "execution_count": 1,
      "metadata": {
        "id": "ugVANLq8EIsj",
        "outputId": "a83e4caf-e529-465f-c043-a69b9ec87b1b",
        "colab": {
          "base_uri": "https://localhost:8080/"
        }
      },
      "outputs": [
        {
          "output_type": "stream",
          "name": "stdout",
          "text": [
            "--2025-07-30 06:44:24--  http://vision.stanford.edu/aditya86/ImageNetDogs/images.tar\n",
            "Resolving vision.stanford.edu (vision.stanford.edu)... 171.64.68.10\n",
            "Connecting to vision.stanford.edu (vision.stanford.edu)|171.64.68.10|:80... connected.\n",
            "HTTP request sent, awaiting response... 200 OK\n",
            "Length: 793579520 (757M) [application/x-tar]\n",
            "Saving to: ‘images.tar’\n",
            "\n",
            "images.tar          100%[===================>] 756.82M  12.1MB/s    in 96s     \n",
            "\n",
            "2025-07-30 06:46:00 (7.89 MB/s) - ‘images.tar’ saved [793579520/793579520]\n",
            "\n"
          ]
        }
      ],
      "source": [
        "# Download Stanford Dogs image dataset\n",
        "!wget http://vision.stanford.edu/aditya86/ImageNetDogs/images.tar\n"
      ]
    },
    {
      "cell_type": "code",
      "source": [
        "# Create a folder and extract images.tar\n",
        "!mkdir images\n",
        "!tar -xf images.tar -C images\n"
      ],
      "metadata": {
        "id": "hNJOXIr6FSKd"
      },
      "execution_count": 2,
      "outputs": []
    },
    {
      "cell_type": "code",
      "source": [
        "import os, shutil, random\n",
        "\n",
        "def split_dataset(source_dir, dest_dir, train_ratio=0.7, val_ratio=0.15):\n",
        "    os.makedirs(dest_dir, exist_ok=True)\n",
        "    for split in ['train', 'val', 'test']:\n",
        "        os.makedirs(os.path.join(dest_dir, split), exist_ok=True)\n",
        "\n",
        "    for breed in os.listdir(source_dir):\n",
        "        breed_path = os.path.join(source_dir, breed)\n",
        "        if not os.path.isdir(breed_path):\n",
        "            continue\n",
        "        images = os.listdir(breed_path)\n",
        "        random.shuffle(images)\n",
        "\n",
        "        train_end = int(len(images) * train_ratio)\n",
        "        val_end = int(len(images) * (train_ratio + val_ratio))\n",
        "\n",
        "        for i, img in enumerate(images):\n",
        "            if i < train_end:\n",
        "                split = 'train'\n",
        "            elif i < val_end:\n",
        "                split = 'val'\n",
        "            else:\n",
        "                split = 'test'\n",
        "\n",
        "            dest_path = os.path.join(dest_dir, split, breed)\n",
        "            os.makedirs(dest_path, exist_ok=True)\n",
        "\n",
        "            shutil.copy(os.path.join(breed_path, img), os.path.join(dest_path, img))\n",
        "\n",
        "# Call the function to split the dataset\n",
        "split_dataset(\"images/Images\", \"data\")\n"
      ],
      "metadata": {
        "id": "AtokXhIzGvWE"
      },
      "execution_count": 3,
      "outputs": []
    },
    {
      "cell_type": "code",
      "source": [
        "import os\n",
        "\n",
        "for split in ['train', 'val', 'test']:\n",
        "    path = os.path.join(\"data\", split)\n",
        "    total_images = sum([len(files) for r, d, files in os.walk(path)])\n",
        "    print(f\"{split} images: {total_images}\")\n"
      ],
      "metadata": {
        "id": "KK-wI-zRG_VK",
        "outputId": "64438579-eb45-4857-9b2e-7d7f3e50b155",
        "colab": {
          "base_uri": "https://localhost:8080/"
        }
      },
      "execution_count": 4,
      "outputs": [
        {
          "output_type": "stream",
          "name": "stdout",
          "text": [
            "train images: 14355\n",
            "val images: 3084\n",
            "test images: 3141\n"
          ]
        }
      ]
    }
  ]
}